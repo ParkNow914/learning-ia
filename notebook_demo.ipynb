{
 "cells": [
  {
   "cell_type": "markdown",
   "metadata": {},
   "source": [
    "# 🎓 Knowledge Tracing - Demo Interativo\n",
    "\n",
    "Este notebook demonstra o sistema completo de Knowledge Tracing."
   ]
  },
  {
   "cell_type": "code",
   "execution_count": null,
   "metadata": {},
   "outputs": [],
   "source": [
    "import pandas as pd\n",
    "import numpy as np\n",
    "import matplotlib.pyplot as plt\n",
    "import torch\n",
    "from dkt_model import load_model\n",
    "from recommender import recommend_next\n",
    "\n",
    "print('✅ Imports carregados')"
   ]
  },
  {
   "cell_type": "markdown",
   "metadata": {},
   "source": [
    "## 1. Carregar Dados"
   ]
  },
  {
   "cell_type": "code",
   "execution_count": null,
   "metadata": {},
   "outputs": [],
   "source": [
    "df = pd.read_csv('data/real_combined_dataset.csv')\n",
    "print(f'Dataset: {len(df)} interações, {df[\"student_id\"].nunique()} alunos')\n",
    "df.head()"
   ]
  },
  {
   "cell_type": "markdown",
   "metadata": {},
   "source": [
    "## 2. EDA - Análise Exploratória"
   ]
  },
  {
   "cell_type": "code",
   "execution_count": null,
   "metadata": {},
   "outputs": [],
   "source": [
    "fig, axes = plt.subplots(1, 2, figsize=(12, 4))\n",
    "\n",
    "# Taxa de acerto por fonte\n",
    "df.groupby('source')['correct'].mean().plot(kind='bar', ax=axes[0], color='skyblue')\n",
    "axes[0].set_title('Taxa de Acerto por Dataset')\n",
    "axes[0].set_ylabel('Taxa de Acerto')\n",
    "\n",
    "# Distribuição de interações por aluno\n",
    "df.groupby('student_id').size().hist(bins=30, ax=axes[1], color='salmon')\n",
    "axes[1].set_title('Distribuição de Interações por Aluno')\n",
    "axes[1].set_xlabel('Número de Interações')\n",
    "\n",
    "plt.tight_layout()\n",
    "plt.show()"
   ]
  },
  {
   "cell_type": "markdown",
   "metadata": {},
   "source": [
    "## 3. Carregar Modelo Treinado"
   ]
  },
  {
   "cell_type": "code",
   "execution_count": null,
   "metadata": {},
   "outputs": [],
   "source": [
    "model, metadata = load_model('models/dkt.pt')\n",
    "item_to_idx = metadata.get('item_to_idx', {})\n",
    "print(f'✅ Modelo carregado: {sum(p.numel() for p in model.parameters())} parâmetros')\n",
    "print(f'Val AUC: {metadata.get(\"val_auc\", \"N/A\")}')"
   ]
  },
  {
   "cell_type": "markdown",
   "metadata": {},
   "source": [
    "## 4. Demo de Recomendação"
   ]
  },
  {
   "cell_type": "code",
   "execution_count": null,
   "metadata": {},
   "outputs": [],
   "source": [
    "# Selecionar 3 alunos com diferentes níveis\n",
    "students = df['student_id'].unique()[:3]\n",
    "\n",
    "for student_id in students:\n",
    "    student_df = df[df['student_id'] == student_id].sort_values('timestamp')\n",
    "    history = student_df.to_dict('records')[:10]  # Primeiras 10 interações\n",
    "    \n",
    "    candidates = list(set(df['item_id'].unique()) - set(student_df['item_id'].unique()))[:5]\n",
    "    \n",
    "    rec = recommend_next(history, model, candidates, item_to_idx, strategy='target')\n",
    "    \n",
    "    print(f'\\n📚 Aluno: {student_id[:8]}...')\n",
    "    print(f'   Taxa de acerto: {student_df[\"correct\"].mean():.2%}')\n",
    "    print(f'   Recomendação: {rec[\"item_id\"]} (P={rec[\"p_estimated\"]:.2f})')\n",
    "    print(f'   Justificativa: {rec[\"rationale\"]}')"
   ]
  },
  {
   "cell_type": "markdown",
   "metadata": {},
   "source": [
    "## 5. Visualizar Evolução de P(correct)"
   ]
  },
  {
   "cell_type": "code",
   "execution_count": null,
   "metadata": {},
   "outputs": [],
   "source": [
    "# Simular evolução de P(correct) ao longo do tempo\n",
    "student_id = students[0]\n",
    "student_df = df[df['student_id'] == student_id].sort_values('timestamp')\n",
    "\n",
    "# Aqui você implementaria a predição sequencial\n",
    "# Para simplificar, vamos plotar a taxa de acerto móvel\n",
    "\n",
    "student_df['correct_ma'] = student_df['correct'].rolling(window=5, min_periods=1).mean()\n",
    "\n",
    "plt.figure(figsize=(10, 4))\n",
    "plt.plot(student_df['correct_ma'], marker='o', label='Taxa de Acerto (MA-5)')\n",
    "plt.axhline(y=0.7, color='r', linestyle='--', label='Target (0.7)')\n",
    "plt.xlabel('Interação')\n",
    "plt.ylabel('P(correct)')\n",
    "plt.title(f'Evolução do Aluno {student_id[:8]}...')\n",
    "plt.legend()\n",
    "plt.grid(True, alpha=0.3)\n",
    "plt.show()"
   ]
  },
  {
   "cell_type": "markdown",
   "metadata": {},
   "source": [
    "## ✅ Conclusão\n",
    "\n",
    "Este notebook demonstrou:\n",
    "- Carregamento e exploração de dados reais\n",
    "- Uso do modelo DKT para predições\n",
    "- Recomendações personalizadas para diferentes perfis\n",
    "- Visualização da evolução do aluno\n",
    "\n",
    "**Próximos passos**: Experimente diferentes estratégias e compare resultados!"
   ]
  }
 ],
 "metadata": {
  "kernelspec": {
   "display_name": "Python 3",
   "language": "python",
   "name": "python3"
  },
  "language_info": {
   "name": "python",
   "version": "3.9.0"
  }
 },
 "nbformat": 4,
 "nbformat_minor": 4
}
